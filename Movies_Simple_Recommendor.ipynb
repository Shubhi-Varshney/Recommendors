{
 "cells": [
  {
   "cell_type": "markdown",
   "id": "22710eea",
   "metadata": {},
   "source": [
    "## MOVIES RECOMMENDATION ENGINE"
   ]
  },
  {
   "cell_type": "markdown",
   "id": "749372fa",
   "metadata": {},
   "source": [
    "#### Load data in pandas dataframes and show tables"
   ]
  },
  {
   "cell_type": "code",
   "execution_count": null,
   "id": "17ab5561",
   "metadata": {
    "scrolled": true
   },
   "outputs": [],
   "source": [
    "import pandas as pd\n",
    "\n",
    "movies = pd.read_csv('D:\\\\Shubhi\\\\DataScience\\\\MoviesRecommendation\\\\MovieLens_Dataset\\\\movies_metadata.csv')\n",
    "moviesDF = pd.DataFrame(movies)\n",
    "moviesDF.head()\n"
   ]
  },
  {
   "cell_type": "markdown",
   "id": "fa4c3ab3",
   "metadata": {},
   "source": [
    "# Different Statistics"
   ]
  },
  {
   "cell_type": "markdown",
   "id": "5047a919",
   "metadata": {},
   "source": [
    "### 1. Count of movies grouped by their status"
   ]
  },
  {
   "cell_type": "code",
   "execution_count": null,
   "id": "74c59f34",
   "metadata": {},
   "outputs": [],
   "source": [
    "# Showing different kinds of data filtering\n",
    "\n",
    "moviesDF.head(2)\n",
    "\n",
    "# Total no. of movies in the dataset\n",
    "print(f\"Total no. of movies in the dataset: {moviesDF.shape[0]}\" )\n",
    "\n",
    "# Showing the total no. of movies in a particular status\n",
    "moviesDF['count'] = 1\n",
    "moviesDF.groupby('status').count()['count'].sort_values(ascending=False)\n",
    "\n",
    "# Alternate and simple way to do it.\n",
    "# moviesDF['status'].value_counts() # gives the count of different values\n"
   ]
  },
  {
   "cell_type": "markdown",
   "id": "1ae41328",
   "metadata": {},
   "source": [
    "### Stat 1 Visualization through Barchart"
   ]
  },
  {
   "cell_type": "code",
   "execution_count": null,
   "id": "380adff2",
   "metadata": {},
   "outputs": [],
   "source": [
    "# Visualize it through barchart\n",
    "import plotly.express as px\n",
    "\n",
    "moviesDFNN = moviesDF[moviesDF['status'].notnull()]\n",
    "\n",
    "fig = px.histogram(moviesDFNN, x='status', y='count', color = 'status', text_auto = True, title = 'Fig 1: Bar chart of movies status')\n",
    "\n",
    "fig.update_layout(xaxis_title='Status of the movie', yaxis_title='Total no. of movies')\n",
    "\n"
   ]
  },
  {
   "cell_type": "markdown",
   "id": "489fbd92",
   "metadata": {},
   "source": [
    "### Stat 2. No. of movies status wise in a particular year"
   ]
  },
  {
   "cell_type": "code",
   "execution_count": null,
   "id": "fd36aaff",
   "metadata": {},
   "outputs": [],
   "source": [
    "# Finding out the status of movies who have release date\n",
    "moviesDF[moviesDF['release_date'].notnull()]['status'].unique()"
   ]
  },
  {
   "cell_type": "code",
   "execution_count": null,
   "id": "399e4bdb",
   "metadata": {},
   "outputs": [],
   "source": [
    "# Showing the no. of movies released in a particular yearmoviesDF.columns\n",
    "\n",
    "# Dataset contains two types of date formats. So converting them in one format 'dd-mm-YYYY'\n",
    "date1 = pd.to_datetime(moviesDF['release_date'], errors='coerce',format='%d-%m-%Y')\n",
    "date2 = pd.to_datetime(moviesDF['release_date'], errors='coerce',format='%Y-%m-%d')\n",
    "moviesDF['release_date'] = date1.fillna(date2)\n",
    "# print(moviesDF['release_date'].head(5))\n",
    "\n",
    "# Extracted year \n",
    "# moviesDF['release_year'] = pd.DatetimeIndex(moviesDF['release_date']).year #Method 1\n",
    "moviesDF['release_year'] = moviesDF[moviesDF['release_date'].notnull()]['release_date'].dt.year.astype('int', errors = 'ignore')\n",
    "moviesDF['count'] = 1\n",
    "# print(moviesDF['release_year'].head(5))\n",
    "\n",
    "# Syntax 1 and 2 produces the same results\n",
    "# moviesDF.groupby('release_year').count().sort_values('count',ascending=False)['count'] # syntax 1\n",
    "moviesDF.groupby(['release_year','status']).count()['count']\n",
    "#moviesDF.groupby('release_year').count()['count'].sort_values(ascending=False) # syntax 2 (this includes the count of \n",
    "                                                                                # movies in all status)\n",
    "\n"
   ]
  },
  {
   "cell_type": "markdown",
   "id": "c40944ef",
   "metadata": {},
   "source": [
    "### Stat 2. Visualization through barchart and scatter plot"
   ]
  },
  {
   "cell_type": "code",
   "execution_count": null,
   "id": "cdef1ce6",
   "metadata": {},
   "outputs": [],
   "source": [
    "moviesDF1 = moviesDF[moviesDF['release_year'].notnull() & moviesDF['status'].notnull()]\n",
    "fig_2 = px.histogram(moviesDF1, x = 'release_year', color = 'status', barmode='group', text_auto=True, title='Fig 2: Bar graph')\n",
    "fig_2.show()\n",
    "\n",
    "fig_3 = px.scatter(moviesDF1, x = 'release_year', color = 'status', hover_data = {'genres', 'title'},title='Fig 3: Scatter Plot')\n",
    "fig_3.show()"
   ]
  },
  {
   "cell_type": "markdown",
   "id": "a78b98fe",
   "metadata": {},
   "source": [
    "# Simple Recommendor "
   ]
  },
  {
   "cell_type": "code",
   "execution_count": null,
   "id": "7649815f",
   "metadata": {},
   "outputs": [],
   "source": [
    "from ast import literal_eval\n",
    "# movies = pd.read_csv('D:\\\\Shubhi\\\\DataScience\\\\MoviesRecommendation\\\\MovieLens_Dataset\\\\movies_metadata.csv')\n",
    "# moviesDF = pd.DataFrame(movies)\n",
    "\n",
    "# Converting genres columns to contain only names like [comedy,thriller]\n",
    "moviesDF['genres'] = moviesDF['genres'].fillna('[]').apply(literal_eval).apply(lambda x: [i['name'] for i in x] if isinstance(x, list) else [])\n",
    "\n",
    "# Ignoring null values and converting valid entries as int\n",
    "vote_counts = moviesDF[moviesDF['vote_count'].notnull()]['vote_count'].astype('int')\n",
    "vote_averages = moviesDF[moviesDF['vote_average'].notnull()]['vote_average'].astype('int')\n",
    "C = vote_averages.mean()\n",
    "print(f'Average Vote : {C}')\n",
    "\n",
    "# Calculating 95 percentile value to know how much votes should a movie get to come into our chart list\n",
    "m = vote_counts.quantile(0.95)\n",
    "print(f'A movie should get atleast {m} votes in order to come into top charts')\n"
   ]
  },
  {
   "cell_type": "code",
   "execution_count": null,
   "id": "9f8f49e7",
   "metadata": {},
   "outputs": [],
   "source": [
    "# Extracting year from release_date\n",
    "#moviesDF['year'] = pd.to_datetime(moviesDF['release_date'],errors = 'coerce').apply(lambda x: str(x).split('-')[0] if x != np.nan else np.nan)\n",
    "moviesDF['release_year'] = moviesDF[moviesDF['release_year'].notnull()]['release_year'].astype('int')\n",
    "moviesDF['release_year'].sort_values().head(5)\n",
    "\n",
    "qualified = moviesDF[(moviesDF['vote_count'] >= m) & (moviesDF['vote_average'].notnull()) & (moviesDF['vote_count'].notnull())][['title','release_year','vote_count','vote_average','popularity','genres']]\n",
    "qualified['vote_count'] = qualified['vote_count'].astype('int')\n",
    "qualified['vote_average'] = qualified['vote_average'].astype('int')\n",
    "qualified.shape"
   ]
  },
  {
   "cell_type": "code",
   "execution_count": null,
   "id": "df80847a",
   "metadata": {},
   "outputs": [],
   "source": [
    "# Function to calculate weighted rating\n",
    "def weighted_rating(x):\n",
    "    v = x['vote_count']\n",
    "    R = x['vote_average']\n",
    "    return (v/(v+m) * R) + (m/(m+v) * C)"
   ]
  },
  {
   "cell_type": "code",
   "execution_count": null,
   "id": "010a837a",
   "metadata": {},
   "outputs": [],
   "source": [
    "qualified['wr'] = qualified.apply(weighted_rating, axis=1)\n",
    "qualified = qualified.sort_values('wr', ascending=False)\n",
    "qualified_15 = qualified.head(15)\n",
    "#qualified.shape[0]"
   ]
  },
  {
   "cell_type": "code",
   "execution_count": null,
   "id": "d8a03bb7",
   "metadata": {},
   "outputs": [],
   "source": [
    "qualified.shape[0]"
   ]
  },
  {
   "cell_type": "code",
   "execution_count": null,
   "id": "51d66da2",
   "metadata": {},
   "outputs": [],
   "source": [
    "fig_4 = px.bar(qualified_15, x='title', y='wr', text_auto = True, hover_data={'vote_count','vote_average'}, title='Fig 4: Top 15 movies sorted by weighted rating')\n",
    "fig_4.update_layout(xaxis_title='Movie', yaxis_title='Weigted Rating')\n",
    "fig_4.show()"
   ]
  },
  {
   "cell_type": "code",
   "execution_count": null,
   "id": "86d8aa1c",
   "metadata": {},
   "outputs": [],
   "source": [
    "moviesDF1 = moviesDF1.sort_values('vote_count', ascending=False)\n",
    "moviesDF1_15 = moviesDF1.head(15)\n",
    "fig_5 = px.bar(moviesDF1_15, x='title', y='vote_count', text_auto = True, hover_data={'vote_count','vote_average'}, title='Fig 5: Top 15 movies sorted by Vote Count')\n",
    "fig_5.update_layout(xaxis_title='Movie', yaxis_title='Vote Counts')\n",
    "fig_5.show()"
   ]
  },
  {
   "cell_type": "code",
   "execution_count": null,
   "id": "41707477",
   "metadata": {},
   "outputs": [],
   "source": [
    "moviesDF1 = moviesDF1.sort_values(['vote_average','vote_count'], ascending=False)\n",
    "moviesDF1_15 = moviesDF1.head(15)\n",
    "fig_6 = px.bar(moviesDF1_15, x='title', y='vote_average', text_auto = True, hover_data={'vote_count','vote_average'}, title='Fig 6: Top 15 movies sorted by Vote Average')\n",
    "fig_6.update_layout(xaxis_title='Movie', yaxis_title='Vote Average')\n",
    "fig_6.show()"
   ]
  },
  {
   "cell_type": "markdown",
   "id": "76f04811",
   "metadata": {},
   "source": [
    "##  Build charts for particular genres"
   ]
  },
  {
   "cell_type": "code",
   "execution_count": null,
   "id": "f59047a3",
   "metadata": {},
   "outputs": [],
   "source": [
    "# s = moviesDF.apply(lambda x: pd.Series(x['genres']),axis=1).stack()\n",
    "# print(s.head(5))\n",
    "s = moviesDF.apply(lambda x: pd.Series(x['genres']),axis=1).stack().reset_index(level=1, drop=True)\n",
    "#print(s.head(5))\n",
    "s.name = 'genre'\n",
    "gen_md = moviesDF.drop('genres', axis=1).join(s)\n",
    "#gen_md.head(10)"
   ]
  },
  {
   "cell_type": "markdown",
   "id": "63fd62a0",
   "metadata": {},
   "source": [
    "### Stat 3: No. of movies genres wise in a particular year"
   ]
  },
  {
   "cell_type": "code",
   "execution_count": null,
   "id": "f6ff94d4",
   "metadata": {},
   "outputs": [],
   "source": [
    "genmd1 = gen_md[gen_md['release_year'].notnull() & gen_md['genre'].notnull()]\n",
    "genmd1.groupby('genre').count().sort_values('count', ascending=False)['count']\n",
    "\n",
    "# genmd1['genre'].value_counts() # Same result as above code"
   ]
  },
  {
   "cell_type": "code",
   "execution_count": null,
   "id": "c0e01fbf",
   "metadata": {},
   "outputs": [],
   "source": [
    "fig_7 = px.histogram(genmd1, x='genre', text_auto=True, hover_data={'count'}, title='Fig 7. Distribution of movies around genres')\n",
    "fig_7.show()"
   ]
  },
  {
   "cell_type": "code",
   "execution_count": null,
   "id": "c2dd2ac9",
   "metadata": {},
   "outputs": [],
   "source": [
    "# BUILD_CHART Function \n",
    "\n",
    "def build_chart(genre, percentile=0.85):\n",
    "    df = gen_md[gen_md['genre'] == genre]\n",
    "    vote_counts = df[df['vote_count'].notnull()]['vote_count'].astype('int')\n",
    "    vote_averages = df[df['vote_average'].notnull()]['vote_average'].astype('int')\n",
    "    C = vote_averages.mean()\n",
    "    m = vote_counts.quantile(percentile)\n",
    "    \n",
    "    qualified = df[(df['vote_count'] >= m) & (df['vote_count'].notnull()) & (df['vote_average'].notnull())][['title','release_year','vote_count','vote_average','popularity','genre']]\n",
    "    qualified['vote_count'] = qualified['vote_count'].astype('int')\n",
    "    qualified['vote_average'] = qualified['vote_average'].astype('int')\n",
    "    \n",
    "    qualified['wr'] = qualified.apply(lambda x: (x['vote_count']/(x['vote_count'] + m) * x['vote_average']) + (m /(m + x['vote_count']) * C), axis = 1)\n",
    "    qualified = qualified.sort_values('wr',ascending=False).head(100)\n",
    "    return qualified"
   ]
  },
  {
   "cell_type": "code",
   "execution_count": null,
   "id": "41c7f8c8",
   "metadata": {},
   "outputs": [],
   "source": [
    "build_chart('Romance').head(20)"
   ]
  },
  {
   "cell_type": "raw",
   "id": "3abdba7d",
   "metadata": {},
   "source": [
    "# Loading ratings dataset\n",
    "ratings = pd.read_csv('D:\\\\Shubhi\\\\DataScience\\\\MoviesRecommendation\\\\MovieLens_Dataset\\\\ratings.csv')\n",
    "ratingsDF = pd.DataFrame(ratings)\n",
    "ratingsDF.head()"
   ]
  },
  {
   "cell_type": "raw",
   "id": "0df7c55f",
   "metadata": {},
   "source": [
    "# Loading links dataset\n",
    "links = pd.read_csv('D:\\\\Shubhi\\\\DataScience\\\\MoviesRecommendation\\\\MovieLens_Dataset\\\\links.csv')\n",
    "linksDF = pd.DataFrame(links)\n",
    "linksDF.head()"
   ]
  },
  {
   "cell_type": "raw",
   "id": "719ee3b1",
   "metadata": {},
   "source": [
    "# Loading keywords dataset\n",
    "keywords = pd.read_csv('D:\\\\Shubhi\\\\DataScience\\\\MoviesRecommendation\\\\MovieLens_Dataset\\\\keywords.csv')\n",
    "keywordsDF = pd.DataFrame(keywords)\n",
    "keywordsDF.head()"
   ]
  },
  {
   "cell_type": "raw",
   "id": "31b2d1d5",
   "metadata": {},
   "source": [
    "# Loading keywords dataset\n",
    "credits = pd.read_csv('D:\\\\Shubhi\\\\DataScience\\\\MoviesRecommendation\\\\MovieLens_Dataset\\\\credits.csv')\n",
    "creditsDF = pd.DataFrame(ratings)\n",
    "creditsDF.head()\n",
    "creditsDF['cast'].head(1)"
   ]
  },
  {
   "cell_type": "code",
   "execution_count": null,
   "id": "61299c86",
   "metadata": {},
   "outputs": [],
   "source": []
  }
 ],
 "metadata": {
  "kernelspec": {
   "display_name": "Python 3 (ipykernel)",
   "language": "python",
   "name": "python3"
  },
  "language_info": {
   "codemirror_mode": {
    "name": "ipython",
    "version": 3
   },
   "file_extension": ".py",
   "mimetype": "text/x-python",
   "name": "python",
   "nbconvert_exporter": "python",
   "pygments_lexer": "ipython3",
   "version": "3.9.12"
  }
 },
 "nbformat": 4,
 "nbformat_minor": 5
}
